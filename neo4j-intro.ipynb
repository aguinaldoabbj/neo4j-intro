{
 "cells": [
  {
   "cell_type": "markdown",
   "metadata": {
    "slideshow": {
     "slide_type": "slide"
    }
   },
   "source": [
    "![](img/neo4j.png)\n",
    "\n",
    "# Introdução ao Neo4j\n",
    "## Aguinaldo Bezerra\n",
    "### 12/03/2021"
   ]
  },
  {
   "cell_type": "markdown",
   "metadata": {
    "slideshow": {
     "slide_type": "slide"
    }
   },
   "source": [
    "# O que é?\n",
    "Neo4j é um banco de dados nativamente baseado em grafos. O modelo de dados procura seguir os preceitos da teoria dos grafos.\n",
    "\n",
    "<img src=\"img/model.svg\" alt=\"Drawing\" style=\"width: 500px;\"/>\n"
   ]
  },
  {
   "cell_type": "markdown",
   "metadata": {},
   "source": [
    "# Vantagens\n",
    "- Persistência de dados\n",
    "- Bom desempenho\n",
    "- Rápida curva de aprendizagem / intuitividade\n",
    "- Conversa bem com várias linguagens de programação\n",
    "- Suporta vários formatos de entrada de dados\n",
    "- Conversa com SQL\n",
    "- Conversa bem com bibliotecas para estudo de grafos (NetworkX, graph-tools, GraphX)\n",
    "- Vasta documentação\n",
    "- Causal cluster\n",
    "- Algoritmos embutidos / plugáveis (Produção / Beta / Alfa)\n",
    "- Escalável"
   ]
  },
  {
   "cell_type": "markdown",
   "metadata": {
    "slideshow": {
     "slide_type": "slide"
    }
   },
   "source": [
    "# Visão Geral\n",
    "\n",
    "<img src=\"img/neo4j_overview.jpg\" alt=\"Drawing\" style=\"width: 800px;\"/>"
   ]
  },
  {
   "cell_type": "markdown",
   "metadata": {
    "slideshow": {
     "slide_type": "slide"
    }
   },
   "source": [
    "# Modelo Básico\n",
    "<img src=\"img/neo4j_model.png\" alt=\"Drawing\" style=\"width: 800px;\"/>"
   ]
  },
  {
   "cell_type": "markdown",
   "metadata": {},
   "source": [
    "# Cypher\n",
    "- Sintaxe em ASCII-Art\n",
    "\n",
    "## **MATCH** (You)-[ARE_LEARNING]->(Cypher) **RETURN** You,Cypher\n",
    "<img src=\"img/cypher_learning.jpg\" alt=\"Drawing\" style=\"width: 700px;\"/>"
   ]
  },
  {
   "cell_type": "markdown",
   "metadata": {},
   "source": [
    "# Suporte (drivers)\n",
    "- **.Net** \n",
    "- **Java**\n",
    "- **JavaScript**\n",
    "- **Go**\n",
    "- <u> **__Python__** </u> (libs: neo4j-driver, neomodel, **py2neo**, nxneo4j)\n",
    "- PHP\n",
    "- Ruby\n",
    "- R\n",
    "- Erlang \n",
    "- Clojure \n",
    "- C/C++"
   ]
  },
  {
   "cell_type": "markdown",
   "metadata": {},
   "source": [
    "# Versões\n",
    "- **Licenças:** Community (open source) / Enterprise\n",
    "- **Variantes:** Neo4j Server (headless) / Neo4j Desktop (GUI)"
   ]
  },
  {
   "cell_type": "markdown",
   "metadata": {},
   "source": [
    "# Visualização\n",
    "### Neo4j Browser (webapp - embutido em todas as versões)\n",
    "<img src=\"img/browser.png\" alt=\"Drawing\" style=\"width: 700px;\"/>\n",
    "\n",
    "### Neo4j Bloom (disponível como plugin para a versão Enterprise)\n",
    "<img src=\"img/bloom.png\" alt=\"Drawing\" style=\"width: 700px;\"/>\n",
    "\n",
    "### Bibliotecas para \"desenhar\" grafos\n",
    "- D3.js\n",
    "- VivaGraphJS\n",
    "- Vis.js\n",
    "- **Neovis**\n",
    "- Sigma\n",
    "- KeyLines\n",
    "- Alchemy.js\n",
    "- Graphistry\n",
    "- Gephi\n",
    "- yFiles"
   ]
  },
  {
   "cell_type": "markdown",
   "metadata": {},
   "source": [
    "# Plugins (Open-source)\n",
    "- [Awesome Procedures On Cypher (APOC)](https://neo4j.com/labs/apoc/)\n",
    "- [Graph Data Science (GDS)](https://neo4j.com/product/graph-data-science-library/)"
   ]
  },
  {
   "cell_type": "markdown",
   "metadata": {},
   "source": [
    "# Recursos\n",
    "- [Documentação Neo4j](https://neo4j.com/docs/)\n",
    "- [Livros Neo4j](https://neo4j.com/books/)\n",
    "- [Graph Academy](https://neo4j.com/graphacademy/)\n",
    "- [Neo4j Dev](https://neo4j.com/developer/)\n",
    "- [Fórum Neo4j](https://community.neo4j.com/)\n",
    "- [Neo4J DockerHub](https://hub.docker.com/_/neo4j)\n",
    "- [Containers usados nessa APT](https://github.com/aguinaldoabbj?tab=repositories&q=neo&type=&language=)"
   ]
  },
  {
   "cell_type": "code",
   "execution_count": null,
   "metadata": {},
   "outputs": [],
   "source": []
  }
 ],
 "metadata": {
  "kernelspec": {
   "display_name": "Python 3",
   "language": "python",
   "name": "python3"
  },
  "language_info": {
   "codemirror_mode": {
    "name": "ipython",
    "version": 3
   },
   "file_extension": ".py",
   "mimetype": "text/x-python",
   "name": "python",
   "nbconvert_exporter": "python",
   "pygments_lexer": "ipython3",
   "version": "3.8.8"
  }
 },
 "nbformat": 4,
 "nbformat_minor": 4
}
