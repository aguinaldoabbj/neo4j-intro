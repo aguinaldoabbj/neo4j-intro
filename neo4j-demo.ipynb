{
 "cells": [
  {
   "cell_type": "markdown",
   "id": "neural-thread",
   "metadata": {},
   "source": [
    "# _Hands-on_ utilizando a biblioteca **py2neo**"
   ]
  },
  {
   "cell_type": "code",
   "execution_count": 941,
   "id": "intensive-ranch",
   "metadata": {},
   "outputs": [],
   "source": [
    "## Preparando Neo4j\n",
    "#%run ../neo4j-setup/1_neo4j_setup.ipynb\n",
    "#%run installs.ipynb\n",
    "#ip do container rodando neo4j\n",
    "%store -r neo4j_pod_ip "
   ]
  },
  {
   "cell_type": "code",
   "execution_count": 942,
   "id": "starting-oracle",
   "metadata": {},
   "outputs": [
    {
     "data": {
      "text/plain": [
       "'10.42.0.108'"
      ]
     },
     "execution_count": 942,
     "metadata": {},
     "output_type": "execute_result"
    }
   ],
   "source": [
    "neo4j_pod_ip"
   ]
  },
  {
   "cell_type": "markdown",
   "id": "confidential-direction",
   "metadata": {},
   "source": [
    "## Por que py2neo ?\n",
    "Py2neo é uma biblioteca cliente e toolkit para Neo4j. \n",
    "- API de alto nível \n",
    "- OGM \n",
    "- Console para executar **consultas cypher**"
   ]
  },
  {
   "cell_type": "markdown",
   "id": "collective-butterfly",
   "metadata": {},
   "source": [
    "## Conectando com Neo4j"
   ]
  },
  {
   "cell_type": "code",
   "execution_count": 943,
   "id": "illegal-motion",
   "metadata": {},
   "outputs": [],
   "source": [
    "import pandas as pd\n",
    "from py2neo import Graph\n",
    "# criando objeto\n",
    "graph = Graph(\"bolt://\"+neo4j_pod_ip+\":7687\")"
   ]
  },
  {
   "cell_type": "code",
   "execution_count": null,
   "id": "overhead-shooting",
   "metadata": {},
   "outputs": [],
   "source": [
    "#certificando que não há nada no banco\n",
    "graph.delete_all()"
   ]
  },
  {
   "cell_type": "markdown",
   "id": "biblical-plate",
   "metadata": {},
   "source": [
    "## Populando banco de dados (Movies database)"
   ]
  },
  {
   "cell_type": "code",
   "execution_count": 944,
   "id": "acute-circus",
   "metadata": {},
   "outputs": [
    {
     "data": {
      "text/plain": [
       "(No data)"
      ]
     },
     "execution_count": 944,
     "metadata": {},
     "output_type": "execute_result"
    }
   ],
   "source": [
    "#abrindo arquivo com queries de criação de nós e relacionamentos\n",
    "with open('data/cypher_create_movie_db.txt') as file:\n",
    "    query = file.read().replace('\\n', ' ')\n",
    "graph.run(query) "
   ]
  },
  {
   "cell_type": "markdown",
   "id": "surrounded-scout",
   "metadata": {},
   "source": [
    "![](img/graph-examples-movies-example.png)"
   ]
  },
  {
   "cell_type": "markdown",
   "id": "attractive-senior",
   "metadata": {},
   "source": [
    "## Esquema de banco de dados"
   ]
  },
  {
   "cell_type": "code",
   "execution_count": 945,
   "id": "educational-sweet",
   "metadata": {},
   "outputs": [
    {
     "data": {
      "text/plain": [
       " nodes                                                                                                                    | relationships                                                                                                                                                              \n",
       "--------------------------------------------------------------------------------------------------------------------------|----------------------------------------------------------------------------------------------------------------------------------------------------------------------------\n",
       " [(_-1:Movie {constraints: [], indexes: [], name: 'Movie'}), (_-2:Person {constraints: [], indexes: [], name: 'Person'})] | [(_-2)-[:ACTED_IN {}]->(_-1), (_-2)-[:REVIEWED {}]->(_-1), (_-2)-[:PRODUCED {}]->(_-1), (_-2)-[:WROTE {}]->(_-1), (_-2)-[:FOLLOWS {}]->(_-2), (_-2)-[:DIRECTED {}]->(_-1)] "
      ]
     },
     "execution_count": 945,
     "metadata": {},
     "output_type": "execute_result"
    }
   ],
   "source": [
    "#Executando consulta para verificação do db schema utilizando cypher\n",
    "graph.run('CALL db.schema.visualization()')"
   ]
  },
  {
   "cell_type": "code",
   "execution_count": 946,
   "id": "changing-consolidation",
   "metadata": {},
   "outputs": [
    {
     "data": {
      "text/plain": [
       "frozenset({'Movie', 'Person'})"
      ]
     },
     "execution_count": 946,
     "metadata": {},
     "output_type": "execute_result"
    }
   ],
   "source": [
    "# Checando labels (tipos dos nós) mapeados no py2neo\n",
    "graph.schema.node_labels"
   ]
  },
  {
   "cell_type": "code",
   "execution_count": 947,
   "id": "collect-hands",
   "metadata": {},
   "outputs": [
    {
     "data": {
      "text/plain": [
       "frozenset({'ACTED_IN', 'DIRECTED', 'FOLLOWS', 'PRODUCED', 'REVIEWED', 'WROTE'})"
      ]
     },
     "execution_count": 947,
     "metadata": {},
     "output_type": "execute_result"
    }
   ],
   "source": [
    "# Checando relacionamentos mapeados no py2neo\n",
    "graph.schema.relationship_types"
   ]
  },
  {
   "cell_type": "code",
   "execution_count": 948,
   "id": "senior-stability",
   "metadata": {},
   "outputs": [
    {
     "name": "stdout",
     "output_type": "stream",
     "text": [
      "Movie dict_keys(['tagline', 'title', 'released'])\n",
      "Person dict_keys(['name', 'born'])\n"
     ]
    }
   ],
   "source": [
    "# Propriedades dos nós\n",
    "for label in graph.schema.node_labels:\n",
    "    n = graph.nodes.match(label).first()\n",
    "    if n:\n",
    "        print(label, n.keys())"
   ]
  },
  {
   "cell_type": "code",
   "execution_count": 949,
   "id": "entertaining-suicide",
   "metadata": {},
   "outputs": [
    {
     "name": "stdout",
     "output_type": "stream",
     "text": [
      "DIRECTED dict_keys([])\n",
      "FOLLOWS dict_keys([])\n",
      "ACTED_IN dict_keys(['roles'])\n",
      "WROTE dict_keys([])\n",
      "REVIEWED dict_keys(['summary', 'rating'])\n",
      "PRODUCED dict_keys([])\n"
     ]
    }
   ],
   "source": [
    "# Propriedades das relações\n",
    "for reltype in graph.schema.relationship_types:\n",
    "    r = graph.relationships.match(r_type=reltype).first()\n",
    "    print(reltype, r.keys())"
   ]
  },
  {
   "cell_type": "markdown",
   "id": "simple-level",
   "metadata": {
    "tags": []
   },
   "source": [
    "### Esquema no Neo4j-browser"
   ]
  },
  {
   "cell_type": "code",
   "execution_count": 898,
   "id": "korean-maldives",
   "metadata": {},
   "outputs": [
    {
     "name": "stdout",
     "output_type": "stream",
     "text": [
      "http://10.42.0.104:7474/browser\n"
     ]
    }
   ],
   "source": [
    "# chamar \"CALL db.schema.visualization()\" no neo4j-browser\n",
    "print('http://'+neo4j_pod_ip+':7474/browser')"
   ]
  },
  {
   "cell_type": "markdown",
   "id": "dental-editing",
   "metadata": {},
   "source": [
    "## Consultando Nós e Relacionamentos"
   ]
  },
  {
   "cell_type": "markdown",
   "id": "alleged-diameter",
   "metadata": {},
   "source": [
    "### Nós"
   ]
  },
  {
   "cell_type": "code",
   "execution_count": 950,
   "id": "quantitative-running",
   "metadata": {},
   "outputs": [
    {
     "data": {
      "text/plain": [
       "Node('Person', born=1964, name='Keanu Reeves')"
      ]
     },
     "execution_count": 950,
     "metadata": {},
     "output_type": "execute_result"
    }
   ],
   "source": [
    "# Com os módulos do py2neo\n",
    "graph.nodes.match('Person').first() #all()"
   ]
  },
  {
   "cell_type": "code",
   "execution_count": 951,
   "id": "interested-wings",
   "metadata": {},
   "outputs": [
    {
     "data": {
      "text/plain": [
       " p                                              \n",
       "------------------------------------------------\n",
       " (_1:Person {born: 1964, name: 'Keanu Reeves'}) "
      ]
     },
     "execution_count": 951,
     "metadata": {},
     "output_type": "execute_result"
    }
   ],
   "source": [
    "# com cypher\n",
    "graph.run('MATCH (p:Person) RETURN p LIMIT 1')"
   ]
  },
  {
   "cell_type": "markdown",
   "id": "static-rates",
   "metadata": {},
   "source": [
    "#### Filtrando resultado por atributos"
   ]
  },
  {
   "cell_type": "code",
   "execution_count": 952,
   "id": "yellow-michigan",
   "metadata": {},
   "outputs": [
    {
     "data": {
      "text/plain": [
       "[Node('Movie', released=2000, tagline='The rest of his life begins now.', title='Jerry Maguire'),\n",
       " Node('Movie', released=2000, tagline='Pain heals, Chicks dig scars... Glory lasts forever', title='The Replacements'),\n",
       " Node('Movie', released=2000, tagline='At the edge of the world, his journey begins.', title='Cast Away')]"
      ]
     },
     "execution_count": 952,
     "metadata": {},
     "output_type": "execute_result"
    }
   ],
   "source": [
    "# Com os módulos do py2neo\n",
    "graph.nodes.match('Movie').where(released=2000).all()"
   ]
  },
  {
   "cell_type": "code",
   "execution_count": 953,
   "id": "working-google",
   "metadata": {},
   "outputs": [
    {
     "data": {
      "text/plain": [
       "[{'m': Node('Movie', released=2000, tagline='The rest of his life begins now.', title='Jerry Maguire')},\n",
       " {'m': Node('Movie', released=2000, tagline='Pain heals, Chicks dig scars... Glory lasts forever', title='The Replacements')},\n",
       " {'m': Node('Movie', released=2000, tagline='At the edge of the world, his journey begins.', title='Cast Away')}]"
      ]
     },
     "execution_count": 953,
     "metadata": {},
     "output_type": "execute_result"
    }
   ],
   "source": [
    "# com cypher\n",
    "graph.run('MATCH (m:Movie {released:2000}) RETURN m').data()"
   ]
  },
  {
   "cell_type": "markdown",
   "id": "coral-triumph",
   "metadata": {},
   "source": [
    "### Relacionamentos"
   ]
  },
  {
   "cell_type": "code",
   "execution_count": 956,
   "id": "beginning-jones",
   "metadata": {},
   "outputs": [],
   "source": [
    "# guardando nós para as consultas\n",
    "#p1 = graph.nodes.match('Person').where(name='Charlize Theron').first()\n",
    "#p2 = graph.nodes.match('Person').where(name='Clint Eastwood').first()\n",
    "# Tom Hanks\n",
    "p1 = graph.nodes.match('Person').where(name='Tom Hanks').first()\n",
    "# Apollo 13\n",
    "m1 = graph.nodes.match('Movie').where(title='Apollo 13').first()"
   ]
  },
  {
   "cell_type": "code",
   "execution_count": 957,
   "id": "lesser-polls",
   "metadata": {},
   "outputs": [
    {
     "data": {
      "text/plain": [
       "[ACTED_IN(Node('Person', born=1956, name='Tom Hanks'), Node('Movie', released=1995, tagline='Houston, we have a problem.', title='Apollo 13'), roles=['Jim Lovell']),\n",
       " ACTED_IN(Node('Person', born=1956, name='Tom Hanks'), Node('Movie', released=1998, tagline='At odds in life... in love on-line.', title=\"You've Got Mail\"), roles=['Joe Fox']),\n",
       " ACTED_IN(Node('Person', born=1956, name='Tom Hanks'), Node('Movie', released=1992, tagline='Once in a lifetime you get a chance to do something different.', title='A League of Their Own'), roles=['Jimmy Dugan']),\n",
       " ACTED_IN(Node('Person', born=1956, name='Tom Hanks'), Node('Movie', released=1990, tagline='A story of love, lava and burning desire.', title='Joe Versus the Volcano'), roles=['Joe Banks']),\n",
       " ACTED_IN(Node('Person', born=1956, name='Tom Hanks'), Node('Movie', released=1996, tagline='In every life there comes a time when that thing you dream becomes that thing you do', title='That Thing You Do'), roles=['Mr. White'])]"
      ]
     },
     "execution_count": 957,
     "metadata": {},
     "output_type": "execute_result"
    }
   ],
   "source": [
    "# todos os relacionamentos do p1 (Tom Hanks)\n",
    "graph.relationships.match([p1]).limit(5).all()"
   ]
  },
  {
   "cell_type": "code",
   "execution_count": 958,
   "id": "progressive-investigator",
   "metadata": {},
   "outputs": [
    {
     "data": {
      "text/plain": [
       "[ACTED_IN(Node('Person', born=1956, name='Tom Hanks'), Node('Movie', released=1995, tagline='Houston, we have a problem.', title='Apollo 13'), roles=['Jim Lovell']),\n",
       " ACTED_IN(Node('Person', born=1950, name='Ed Harris'), Node('Movie', released=1995, tagline='Houston, we have a problem.', title='Apollo 13'), roles=['Gene Kranz']),\n",
       " ACTED_IN(Node('Person', born=1955, name='Gary Sinise'), Node('Movie', released=1995, tagline='Houston, we have a problem.', title='Apollo 13'), roles=['Ken Mattingly']),\n",
       " ACTED_IN(Node('Person', born=1958, name='Kevin Bacon'), Node('Movie', released=1995, tagline='Houston, we have a problem.', title='Apollo 13'), roles=['Jack Swigert']),\n",
       " ACTED_IN(Node('Person', born=1955, name='Bill Paxton'), Node('Movie', released=1995, tagline='Houston, we have a problem.', title='Apollo 13'), roles=['Fred Haise'])]"
      ]
     },
     "execution_count": 958,
     "metadata": {},
     "output_type": "execute_result"
    }
   ],
   "source": [
    "# Elenco de Apollo 13\n",
    "graph.relationships.match([None,m1], r_type='ACTED_IN').all()"
   ]
  },
  {
   "cell_type": "code",
   "execution_count": 959,
   "id": "egyptian-vault",
   "metadata": {},
   "outputs": [
    {
     "data": {
      "text/plain": [
       "[{'r': ACTED_IN(Node('Person', born=1956, name='Tom Hanks'), Node('Movie', released=1995, tagline='Houston, we have a problem.', title='Apollo 13'), roles=['Jim Lovell'])},\n",
       " {'r': ACTED_IN(Node('Person', born=1950, name='Ed Harris'), Node('Movie', released=1995, tagline='Houston, we have a problem.', title='Apollo 13'), roles=['Gene Kranz'])},\n",
       " {'r': ACTED_IN(Node('Person', born=1955, name='Gary Sinise'), Node('Movie', released=1995, tagline='Houston, we have a problem.', title='Apollo 13'), roles=['Ken Mattingly'])},\n",
       " {'r': ACTED_IN(Node('Person', born=1958, name='Kevin Bacon'), Node('Movie', released=1995, tagline='Houston, we have a problem.', title='Apollo 13'), roles=['Jack Swigert'])},\n",
       " {'r': ACTED_IN(Node('Person', born=1955, name='Bill Paxton'), Node('Movie', released=1995, tagline='Houston, we have a problem.', title='Apollo 13'), roles=['Fred Haise'])}]"
      ]
     },
     "execution_count": 959,
     "metadata": {},
     "output_type": "execute_result"
    }
   ],
   "source": [
    "# em cypher\n",
    "graph.run(\"MATCH (p)-[r:ACTED_IN]->(m:Movie {title:'Apollo 13'}) RETURN r\" ).data()"
   ]
  },
  {
   "cell_type": "markdown",
   "id": "computational-novel",
   "metadata": {},
   "source": [
    "### Visualizando consultas no Jupyter com Neovis + Cypher"
   ]
  },
  {
   "cell_type": "code",
   "execution_count": 960,
   "id": "sensitive-artwork",
   "metadata": {},
   "outputs": [],
   "source": [
    "#impportando modulo para desenha na aplicação de visualização\n",
    "import import_ipynb\n",
    "from neovis_draw import Draw\n",
    "#ip da aplicação de visualização\n",
    "%store -r neo4j_vis_pod_ip "
   ]
  },
  {
   "cell_type": "code",
   "execution_count": 936,
   "id": "ceramic-special",
   "metadata": {},
   "outputs": [
    {
     "data": {
      "application/json": {
       "arrows": false,
       "hierachical": true,
       "labels": {
        "Movie": {
         "caption": "title"
        },
        "Person": {
         "caption": "name"
        }
       }
      },
      "text/plain": [
       "<IPython.core.display.JSON object>"
      ]
     },
     "execution_count": 936,
     "metadata": {
      "application/json": {
       "expanded": true,
       "root": "root"
      }
     },
     "output_type": "execute_result"
    }
   ],
   "source": [
    "#configurando labels desenho do grafo\n",
    "vis_conf = {'labels':{'Person':{'caption':'name'},'Movie':{'caption':'title'}},'arrows':False, 'hierachical':True}\n",
    "from IPython.display import JSON\n",
    "JSON(vis_conf, expanded=True)"
   ]
  },
  {
   "cell_type": "markdown",
   "id": "vertical-reporter",
   "metadata": {},
   "source": [
    "#### Visão geral do grafo"
   ]
  },
  {
   "cell_type": "code",
   "execution_count": 961,
   "id": "static-champagne",
   "metadata": {},
   "outputs": [
    {
     "data": {
      "text/html": [
       "\n",
       "        <iframe\n",
       "            width=\"1200\"\n",
       "            height=\"500\"\n",
       "            src=\"http://10.42.0.109:5000/visconfig?json=%7B%22labels%22%3A%20%7B%22Person%22%3A%20%7B%22caption%22%3A%20%22name%22%7D%2C%20%22Movie%22%3A%20%7B%22caption%22%3A%20%22title%22%7D%7D%2C%20%22arrows%22%3A%20false%2C%20%22hierachical%22%3A%20true%2C%20%22container_id%22%3A%20%22viz%22%2C%20%22server_url%22%3A%20%22bolt%3A%2F%2F10.42.0.108%3A7687%22%2C%20%22initial_cypher%22%3A%20%22MATCH%20p%3D%28%29-%5B%5D-%28%29%20RETURN%20p%22%7D\"\n",
       "            frameborder=\"0\"\n",
       "            allowfullscreen\n",
       "        ></iframe>\n",
       "        "
      ],
      "text/plain": [
       "<IPython.lib.display.IFrame at 0x7fba7a422940>"
      ]
     },
     "execution_count": 961,
     "metadata": {},
     "output_type": "execute_result"
    }
   ],
   "source": [
    "query = \"MATCH p=()-[]-() RETURN p\"\n",
    "Draw(neo4j_vis_pod_ip,neo4j_pod_ip,query=query, config=vis_conf, figsize=(1200,500))"
   ]
  },
  {
   "cell_type": "markdown",
   "id": "located-harris",
   "metadata": {},
   "source": [
    "#### Elenco de Apollo 13"
   ]
  },
  {
   "cell_type": "code",
   "execution_count": 962,
   "id": "assured-backing",
   "metadata": {},
   "outputs": [
    {
     "data": {
      "text/html": [
       "\n",
       "        <iframe\n",
       "            width=\"1200\"\n",
       "            height=\"500\"\n",
       "            src=\"http://10.42.0.109:5000/visconfig?json=%7B%22labels%22%3A%20%7B%22Person%22%3A%20%7B%22caption%22%3A%20%22name%22%7D%2C%20%22Movie%22%3A%20%7B%22caption%22%3A%20%22title%22%7D%7D%2C%20%22arrows%22%3A%20false%2C%20%22hierachical%22%3A%20true%2C%20%22container_id%22%3A%20%22viz%22%2C%20%22server_url%22%3A%20%22bolt%3A%2F%2F10.42.0.108%3A7687%22%2C%20%22initial_cypher%22%3A%20%22MATCH%20%28p%29-%5Br%3AACTED_IN%5D-%3E%28m%3AMovie%20%7Btitle%3A%27Apollo%2013%27%7D%29%20RETURN%20p%2Cm%2Cr%22%7D\"\n",
       "            frameborder=\"0\"\n",
       "            allowfullscreen\n",
       "        ></iframe>\n",
       "        "
      ],
      "text/plain": [
       "<IPython.lib.display.IFrame at 0x7fba7a4236a0>"
      ]
     },
     "execution_count": 962,
     "metadata": {},
     "output_type": "execute_result"
    }
   ],
   "source": [
    "query = \"MATCH (p)-[r:ACTED_IN]->(m:Movie {title:'Apollo 13'}) RETURN p,m,r\"\n",
    "Draw(neo4j_vis_pod_ip,neo4j_pod_ip,query=query, config=vis_conf, figsize=(1200,500))"
   ]
  },
  {
   "cell_type": "markdown",
   "id": "eight-things",
   "metadata": {},
   "source": [
    "### Artistas que foram atores e diretores simultaneamente no mesmo filme"
   ]
  },
  {
   "cell_type": "code",
   "execution_count": 963,
   "id": "geographic-flight",
   "metadata": {},
   "outputs": [
    {
     "data": {
      "text/html": [
       "\n",
       "        <iframe\n",
       "            width=\"1200\"\n",
       "            height=\"500\"\n",
       "            src=\"http://10.42.0.109:5000/visconfig?json=%7B%22labels%22%3A%20%7B%22Person%22%3A%20%7B%22caption%22%3A%20%22name%22%7D%2C%20%22Movie%22%3A%20%7B%22caption%22%3A%20%22title%22%7D%7D%2C%20%22arrows%22%3A%20false%2C%20%22hierachical%22%3A%20true%2C%20%22container_id%22%3A%20%22viz%22%2C%20%22server_url%22%3A%20%22bolt%3A%2F%2F10.42.0.108%3A7687%22%2C%20%22initial_cypher%22%3A%20%22MATCH%20s%3D%28p%29-%5B%3AACTED_IN%5D-%3E%28m%3AMovie%29%3C-%5B%3ADIRECTED%5D-%28p%29%20RETURN%20s%22%7D\"\n",
       "            frameborder=\"0\"\n",
       "            allowfullscreen\n",
       "        ></iframe>\n",
       "        "
      ],
      "text/plain": [
       "<IPython.lib.display.IFrame at 0x7fba7a422310>"
      ]
     },
     "execution_count": 963,
     "metadata": {},
     "output_type": "execute_result"
    }
   ],
   "source": [
    "query = \"MATCH s=(p)-[:ACTED_IN]->(m:Movie)<-[:DIRECTED]-(p) RETURN s\"\n",
    "Draw(neo4j_vis_pod_ip,neo4j_pod_ip,query=query, config=vis_conf, figsize=(1200,500))"
   ]
  },
  {
   "cell_type": "markdown",
   "id": "intense-parking",
   "metadata": {},
   "source": [
    "## Criando Nós e Relacionamentos"
   ]
  },
  {
   "cell_type": "markdown",
   "id": "delayed-springer",
   "metadata": {},
   "source": [
    "### Criando Filme \"O que é isso companheiro?\""
   ]
  },
  {
   "cell_type": "code",
   "execution_count": 912,
   "id": "elect-guess",
   "metadata": {},
   "outputs": [],
   "source": [
    "from py2neo import Node, Relationship #vamos usar o py2neo para criar"
   ]
  },
  {
   "cell_type": "code",
   "execution_count": 964,
   "id": "exclusive-recipient",
   "metadata": {},
   "outputs": [],
   "source": [
    "#novos nós de filme e pessoas\n",
    "m2 = Node('Movie', title='O que é isso companheiro?', released=1997, tagline='Their goal: freedom. Their only hope: an international incident. Their target: the American ambassador')\n",
    "p2 = Node('Person', name='Pedro Cardoso', born=1962)\n",
    "p3 = Node('Person', name='Fernanda Torres', born=1965)\n",
    "# já está no banco, resgatando objeto correspondente\n",
    "p4 = graph.nodes.match('Person').where(name='Alan Arkin').first()"
   ]
  },
  {
   "cell_type": "code",
   "execution_count": 965,
   "id": "bulgarian-employee",
   "metadata": {},
   "outputs": [],
   "source": [
    "#criando relacionamentos\n",
    "r1 = Relationship(p2,'ACTED_IN',m2, roles=['Fernando Gabeira','Paulo'])\n",
    "r2 = Relationship(p3,'ACTED_IN',m2, roles=['Maria'])\n",
    "r3 = Relationship(p4,'ACTED_IN',m2, roles=['Charles Burke Elbrick'])\n",
    "#adicionando ao banco\n",
    "graph.create(r1)\n",
    "graph.create(r2)\n",
    "graph.create(r3)"
   ]
  },
  {
   "cell_type": "code",
   "execution_count": 966,
   "id": "furnished-jones",
   "metadata": {},
   "outputs": [
    {
     "data": {
      "text/html": [
       "\n",
       "        <iframe\n",
       "            width=\"1200\"\n",
       "            height=\"500\"\n",
       "            src=\"http://10.42.0.109:5000/visconfig?json=%7B%22labels%22%3A%20%7B%22Person%22%3A%20%7B%22caption%22%3A%20%22name%22%7D%2C%20%22Movie%22%3A%20%7B%22caption%22%3A%20%22title%22%7D%7D%2C%20%22arrows%22%3A%20false%2C%20%22hierachical%22%3A%20true%2C%20%22container_id%22%3A%20%22viz%22%2C%20%22server_url%22%3A%20%22bolt%3A%2F%2F10.42.0.108%3A7687%22%2C%20%22initial_cypher%22%3A%20%22MATCH%20%28m%3AMovie%29%3C-%5Br%3AACTED_IN%5D-%28p%3APerson%29%20WHERE%20m.title%20%3D%20%27O%20que%20%5Cu00e9%20isso%20companheiro%3F%27%20RETURN%20p%2Cm%2Cr%22%7D\"\n",
       "            frameborder=\"0\"\n",
       "            allowfullscreen\n",
       "        ></iframe>\n",
       "        "
      ],
      "text/plain": [
       "<IPython.lib.display.IFrame at 0x7fba7a3a1820>"
      ]
     },
     "execution_count": 966,
     "metadata": {},
     "output_type": "execute_result"
    }
   ],
   "source": [
    "query = \"MATCH (m:Movie)<-[r:ACTED_IN]-(p:Person) WHERE m.title = '{title}' RETURN p,m,r\".format(title=m2.get('title'))\n",
    "Draw(neo4j_vis_pod_ip,neo4j_pod_ip,query=query, config=vis_conf, figsize=(1200,500))"
   ]
  },
  {
   "cell_type": "markdown",
   "id": "blind-dictionary",
   "metadata": {},
   "source": [
    "### Quem é Alan Arkin?"
   ]
  },
  {
   "cell_type": "code",
   "execution_count": 967,
   "id": "intermediate-feeding",
   "metadata": {},
   "outputs": [
    {
     "data": {
      "text/html": [
       "\n",
       "        <iframe\n",
       "            width=\"1200\"\n",
       "            height=\"500\"\n",
       "            src=\"http://10.42.0.109:5000/visconfig?json=%7B%22labels%22%3A%20%7B%22Person%22%3A%20%7B%22caption%22%3A%20%22name%22%7D%2C%20%22Movie%22%3A%20%7B%22caption%22%3A%20%22title%22%7D%7D%2C%20%22arrows%22%3A%20false%2C%20%22hierachical%22%3A%20true%2C%20%22container_id%22%3A%20%22viz%22%2C%20%22server_url%22%3A%20%22bolt%3A%2F%2F10.42.0.108%3A7687%22%2C%20%22initial_cypher%22%3A%20%22MATCH%20s%3D%28p%3APerson%20%7Bname%3A%20%27Alan%20Arkin%27%7D%29-%5Br%3AACTED_IN%2A1..3%5D-%28m%3AMovie%29%20RETURN%20s%22%7D\"\n",
       "            frameborder=\"0\"\n",
       "            allowfullscreen\n",
       "        ></iframe>\n",
       "        "
      ],
      "text/plain": [
       "<IPython.lib.display.IFrame at 0x7fba7a3a1760>"
      ]
     },
     "execution_count": 967,
     "metadata": {},
     "output_type": "execute_result"
    }
   ],
   "source": [
    "query = \"MATCH s=(p:Person {name: 'Alan Arkin'})-[r:ACTED_IN*1..3]-(m:Movie) RETURN s\"\n",
    "Draw(neo4j_vis_pod_ip,neo4j_pod_ip,query=query, config=vis_conf, figsize=(1200,500))"
   ]
  },
  {
   "cell_type": "markdown",
   "id": "planned-calibration",
   "metadata": {},
   "source": [
    "### Criando propriedades novas para nós existentes"
   ]
  },
  {
   "cell_type": "code",
   "execution_count": 968,
   "id": "large-concern",
   "metadata": {},
   "outputs": [
    {
     "data": {
      "text/plain": [
       "(No data)"
      ]
     },
     "execution_count": 968,
     "metadata": {},
     "output_type": "execute_result"
    }
   ],
   "source": [
    "query = \"\"\"MATCH (p:Person)\n",
    "           WITH p, size((p)-[:ACTED_IN]->()) AS count\n",
    "           SET p.movies_cnt = count\"\"\"\n",
    "graph.run(query)"
   ]
  },
  {
   "cell_type": "code",
   "execution_count": 969,
   "id": "authentic-jason",
   "metadata": {},
   "outputs": [
    {
     "data": {
      "text/html": [
       "\n",
       "        <iframe\n",
       "            width=\"1200\"\n",
       "            height=\"500\"\n",
       "            src=\"http://10.42.0.109:5000/visconfig?json=%7B%22labels%22%3A%20%7B%22Person%22%3A%20%7B%22caption%22%3A%20%22name%22%2C%20%22size%22%3A%20%22movies_cnt%22%7D%2C%20%22Movie%22%3A%20%7B%22caption%22%3A%20%22title%22%7D%7D%2C%20%22arrows%22%3A%20false%2C%20%22hierachical%22%3A%20true%2C%20%22container_id%22%3A%20%22viz%22%2C%20%22server_url%22%3A%20%22bolt%3A%2F%2F10.42.0.108%3A7687%22%2C%20%22initial_cypher%22%3A%20%22MATCH%20s%3D%28p%3APerson%29-%5Br%3AACTED_IN%5D-%3E%28m%3AMovie%29%20RETURN%20s%20LIMIT%2050%22%7D\"\n",
       "            frameborder=\"0\"\n",
       "            allowfullscreen\n",
       "        ></iframe>\n",
       "        "
      ],
      "text/plain": [
       "<IPython.lib.display.IFrame at 0x7fba7a3f92e0>"
      ]
     },
     "execution_count": 969,
     "metadata": {},
     "output_type": "execute_result"
    }
   ],
   "source": [
    "vis_conf['labels']['Person']['size'] = 'movies_cnt' \n",
    "query = \"MATCH s=(p:Person)-[r:ACTED_IN]->(m:Movie) RETURN s LIMIT 50\" #nova consulta\n",
    "Draw(neo4j_vis_pod_ip,neo4j_pod_ip,query=query, config=vis_conf, figsize=(1200,500))"
   ]
  },
  {
   "cell_type": "markdown",
   "id": "seven-breed",
   "metadata": {},
   "source": [
    "## Utilizando o plug-in APOC (Amazing Procedures on Cypher)"
   ]
  },
  {
   "cell_type": "markdown",
   "id": "iraqi-growth",
   "metadata": {},
   "source": [
    "### Estatísticas do grafo"
   ]
  },
  {
   "cell_type": "code",
   "execution_count": 970,
   "id": "jewish-jenny",
   "metadata": {},
   "outputs": [
    {
     "data": {
      "text/plain": [
       "[{'stats': {'relTypeCount': 6,\n",
       "   'propertyKeyCount': 9,\n",
       "   'labelCount': 2,\n",
       "   'nodeCount': 178,\n",
       "   'relCount': 260,\n",
       "   'labels': {'Movie': 41, 'Person': 137},\n",
       "   'relTypes': {'()-[:DIRECTED]->(:Movie)': 44,\n",
       "    '(:Person)-[:PRODUCED]->()': 15,\n",
       "    '()-[:DIRECTED]->()': 44,\n",
       "    '()-[:PRODUCED]->()': 15,\n",
       "    '(:Person)-[:DIRECTED]->()': 44,\n",
       "    '()-[:REVIEWED]->()': 9,\n",
       "    '(:Person)-[:REVIEWED]->()': 9,\n",
       "    '()-[:FOLLOWS]->(:Person)': 3,\n",
       "    '()-[:PRODUCED]->(:Movie)': 15,\n",
       "    '()-[:FOLLOWS]->()': 3,\n",
       "    '()-[:WROTE]->()': 10,\n",
       "    '()-[:ACTED_IN]->(:Movie)': 179,\n",
       "    '(:Person)-[:FOLLOWS]->()': 3,\n",
       "    '()-[:WROTE]->(:Movie)': 10,\n",
       "    '(:Person)-[:WROTE]->()': 10,\n",
       "    '()-[:REVIEWED]->(:Movie)': 9,\n",
       "    '(:Person)-[:ACTED_IN]->()': 179,\n",
       "    '()-[:ACTED_IN]->()': 179}}}]"
      ]
     },
     "execution_count": 970,
     "metadata": {},
     "output_type": "execute_result"
    }
   ],
   "source": [
    "graph.run('CALL apoc.meta.stats() YIELD stats RETURN stats').data()"
   ]
  },
  {
   "cell_type": "markdown",
   "id": "tender-sitting",
   "metadata": {},
   "source": [
    "### Criando novos nós e relacionamentos a partir de uma propriedade dos nós\n",
    " - Extrai a proprieadade **Person {born}** para se construir o novo rótulo Year e a relação **(Person)-[BORN_IN]->(Year{year})**"
   ]
  },
  {
   "cell_type": "code",
   "execution_count": 971,
   "id": "raising-plaza",
   "metadata": {},
   "outputs": [
    {
     "data": {
      "text/plain": [
       "(No data)"
      ]
     },
     "execution_count": 971,
     "metadata": {},
     "output_type": "execute_result"
    }
   ],
   "source": [
    "graph.run('CREATE CONSTRAINT IF NOT EXISTS ON (n:Year) ASSERT n.year IS UNIQUE') #evitar que sejam criados vários nós do mesmo ano\n",
    "graph.run(\"CALL apoc.refactor.categorize('born', 'BORN_IN', true, 'Year', 'year', [], 100)\")"
   ]
  },
  {
   "cell_type": "code",
   "execution_count": 972,
   "id": "economic-fight",
   "metadata": {},
   "outputs": [
    {
     "data": {
      "text/html": [
       "\n",
       "        <iframe\n",
       "            width=\"1200\"\n",
       "            height=\"500\"\n",
       "            src=\"http://10.42.0.109:5000/visconfig?json=%7B%22labels%22%3A%20%7B%22Person%22%3A%20%7B%22caption%22%3A%20%22name%22%2C%20%22size%22%3A%20%22movies_cnt%22%7D%2C%20%22Movie%22%3A%20%7B%22caption%22%3A%20%22title%22%7D%2C%20%22Year%22%3A%20%7B%22caption%22%3A%20%22year%22%7D%7D%2C%20%22arrows%22%3A%20false%2C%20%22hierachical%22%3A%20true%2C%20%22container_id%22%3A%20%22viz%22%2C%20%22server_url%22%3A%20%22bolt%3A%2F%2F10.42.0.108%3A7687%22%2C%20%22initial_cypher%22%3A%20%22MATCH%20g%3D%28p%3APerson%29-%5Br%3ABORN_IN%5D-%28y%3AYear%29%20WHERE%20y.year%20%3E%201970%20RETURN%20g%22%7D\"\n",
       "            frameborder=\"0\"\n",
       "            allowfullscreen\n",
       "        ></iframe>\n",
       "        "
      ],
      "text/plain": [
       "<IPython.lib.display.IFrame at 0x7fba7a406880>"
      ]
     },
     "execution_count": 972,
     "metadata": {},
     "output_type": "execute_result"
    }
   ],
   "source": [
    "vis_conf['labels']['Year'] = {'caption':'year'} # adicionando caption para o novo rótulo\n",
    "query = \"MATCH g=(p:Person)-[r:BORN_IN]-(y:Year) WHERE y.year > 1970 RETURN g\" #nova consulta\n",
    "Draw(neo4j_vis_pod_ip,neo4j_pod_ip,query=query, config=vis_conf, figsize=(1200,500))"
   ]
  },
  {
   "cell_type": "markdown",
   "id": "rotary-moisture",
   "metadata": {},
   "source": [
    "### Criando novo rótulo a partir de uma relação\n",
    "- Criando rótulo \"Director\" para as pessoas que dirigiram filmes\n",
    "- Criando rótulo \"Actor\" para as pessoas que atuaram em filmes"
   ]
  },
  {
   "cell_type": "code",
   "execution_count": 973,
   "id": "surgical-jewelry",
   "metadata": {},
   "outputs": [
    {
     "data": {
      "text/plain": [
       " 'done' \n",
       "--------\n",
       " done   "
      ]
     },
     "execution_count": 973,
     "metadata": {},
     "output_type": "execute_result"
    }
   ],
   "source": [
    "query = \"\"\"MATCH (p:Person)-[r:DIRECTED]->(m:Movie)\n",
    "           CALL apoc.create.addLabels([id(p)], ['Director']) YIELD node\n",
    "           WITH node as d, size((node)-[:DIRECTED]->()) as count\n",
    "           SET d.movies_directed = count\n",
    "           RETURN DISTINCT 'done'\"\"\"\n",
    "graph.run(query)"
   ]
  },
  {
   "cell_type": "code",
   "execution_count": 974,
   "id": "adjustable-relevance",
   "metadata": {},
   "outputs": [
    {
     "data": {
      "text/plain": [
       " 'done' \n",
       "--------\n",
       " done   "
      ]
     },
     "execution_count": 974,
     "metadata": {},
     "output_type": "execute_result"
    }
   ],
   "source": [
    "query = \"\"\"MATCH (p:Person)-[r:ACTED_IN]->(m:Movie)\n",
    "           CALL apoc.create.addLabels([id(p)], ['Actor']) YIELD node\n",
    "           RETURN DISTINCT 'done'\"\"\"\n",
    "graph.run(query)"
   ]
  },
  {
   "cell_type": "markdown",
   "id": "dental-revision",
   "metadata": {},
   "source": [
    "- Mostrando apenas diretores com mais de 1 filmes dirigidos"
   ]
  },
  {
   "cell_type": "code",
   "execution_count": 975,
   "id": "understanding-scholarship",
   "metadata": {},
   "outputs": [
    {
     "data": {
      "text/html": [
       "\n",
       "        <iframe\n",
       "            width=\"1200\"\n",
       "            height=\"500\"\n",
       "            src=\"http://10.42.0.109:5000/visconfig?json=%7B%22labels%22%3A%20%7B%22Person%22%3A%20%7B%22caption%22%3A%20%22name%22%2C%20%22size%22%3A%20%22movies_directed%22%7D%2C%20%22Movie%22%3A%20%7B%22caption%22%3A%20%22title%22%7D%2C%20%22Year%22%3A%20%7B%22caption%22%3A%20%22year%22%7D%7D%2C%20%22arrows%22%3A%20false%2C%20%22hierachical%22%3A%20true%2C%20%22container_id%22%3A%20%22viz%22%2C%20%22server_url%22%3A%20%22bolt%3A%2F%2F10.42.0.108%3A7687%22%2C%20%22initial_cypher%22%3A%20%22MATCH%20s%3D%28d%3ADirector%29-%5B%3ADIRECTED%5D-%28%29%20WHERE%20d.movies_directed%20%3E%201%20RETURN%20s%22%7D\"\n",
       "            frameborder=\"0\"\n",
       "            allowfullscreen\n",
       "        ></iframe>\n",
       "        "
      ],
      "text/plain": [
       "<IPython.lib.display.IFrame at 0x7fba7a3a16a0>"
      ]
     },
     "execution_count": 975,
     "metadata": {},
     "output_type": "execute_result"
    }
   ],
   "source": [
    "vis_conf['labels']['Person']['size'] = 'movies_directed' \n",
    "query = \"MATCH s=(d:Director)-[:DIRECTED]-() WHERE d.movies_directed > 1 RETURN s\"\n",
    "Draw(neo4j_vis_pod_ip,neo4j_pod_ip,query=query, config=vis_conf, figsize=(1200,500))"
   ]
  },
  {
   "cell_type": "markdown",
   "id": "perfect-lighter",
   "metadata": {},
   "source": [
    "## Utilizando o plugin GDS (Graph Data Science)"
   ]
  },
  {
   "cell_type": "markdown",
   "id": "cheap-encoding",
   "metadata": {},
   "source": [
    "### Preparando"
   ]
  },
  {
   "cell_type": "markdown",
   "id": "consolidated-subcommittee",
   "metadata": {},
   "source": [
    "- Criando uma relação Person --> Person (ACTED_WITH) entre pessoas que atuaram juntas em filmes"
   ]
  },
  {
   "cell_type": "code",
   "execution_count": 976,
   "id": "dental-dependence",
   "metadata": {},
   "outputs": [
    {
     "data": {
      "text/plain": [
       "(No data)"
      ]
     },
     "execution_count": 976,
     "metadata": {},
     "output_type": "execute_result"
    }
   ],
   "source": [
    "query = \"\"\"MATCH (act1:Person)-[:ACTED_IN]->(m:Movie)<-[:ACTED_IN]->(act2:Person)\n",
    "           WHERE id(act1)<id(act2)\n",
    "           MERGE (act1)-[:ACTED_WITH {in:m.title}]->(act2)\"\"\"\n",
    "graph.run(query)"
   ]
  },
  {
   "cell_type": "code",
   "execution_count": 977,
   "id": "corporate-court",
   "metadata": {},
   "outputs": [
    {
     "data": {
      "text/html": [
       "\n",
       "        <iframe\n",
       "            width=\"1200\"\n",
       "            height=\"500\"\n",
       "            src=\"http://10.42.0.109:5000/visconfig?json=%7B%22labels%22%3A%20%7B%22Person%22%3A%20%7B%22caption%22%3A%20%22name%22%2C%20%22size%22%3A%20%22movies_directed%22%7D%2C%20%22Movie%22%3A%20%7B%22caption%22%3A%20%22title%22%7D%2C%20%22Year%22%3A%20%7B%22caption%22%3A%20%22year%22%7D%7D%2C%20%22arrows%22%3A%20false%2C%20%22hierachical%22%3A%20true%2C%20%22relationships%22%3A%20%7B%22ACTED_WITH%22%3A%20%7B%22caption%22%3A%20%22false%22%7D%7D%2C%20%22container_id%22%3A%20%22viz%22%2C%20%22server_url%22%3A%20%22bolt%3A%2F%2F10.42.0.108%3A7687%22%2C%20%22initial_cypher%22%3A%20%22MATCH%20s%3D%28p1%3APerson%7Bname%3A%27Laurence%20Fishburne%27%7D%29-%5B%3AACTED_WITH%5D-%28%29%20RETURN%20s%22%7D\"\n",
       "            frameborder=\"0\"\n",
       "            allowfullscreen\n",
       "        ></iframe>\n",
       "        "
      ],
      "text/plain": [
       "<IPython.lib.display.IFrame at 0x7fba7a422d00>"
      ]
     },
     "execution_count": 977,
     "metadata": {},
     "output_type": "execute_result"
    }
   ],
   "source": [
    "query = \"MATCH s=(p1:Person{name:'Laurence Fishburne'})-[:ACTED_WITH]-() RETURN s\"\n",
    "vis_conf['relationships'] = {'ACTED_WITH':{'caption':'false'}}  #retirando captions dos relacionamentos\n",
    "Draw(neo4j_vis_pod_ip,neo4j_pod_ip,query=query, config=vis_conf, figsize=(1200,500))"
   ]
  },
  {
   "cell_type": "markdown",
   "id": "cellular-stuart",
   "metadata": {},
   "source": [
    "- Contado essas relações estabelecendo uma nova com a contagem das relações anteriores como propriedade"
   ]
  },
  {
   "cell_type": "code",
   "execution_count": 978,
   "id": "sixth-diamond",
   "metadata": {},
   "outputs": [
    {
     "data": {
      "text/plain": [
       " r2.times \n",
       "----------\n",
       "        1 \n",
       "        2 \n",
       "        3 "
      ]
     },
     "execution_count": 978,
     "metadata": {},
     "output_type": "execute_result"
    }
   ],
   "source": [
    "query = \"\"\" MATCH (a:Actor)-[r1:ACTED_WITH]-(b:Actor)\n",
    "            WITH a, b, count(r1) as countr\n",
    "            MERGE (a)-[r2:CO_STARRED_WITH]-(b)\n",
    "            ON CREATE SET r2.times = countr\n",
    "            RETURN DISTINCT r2.times ORDER BY r2.times\"\"\"\n",
    "graph.run(query)"
   ]
  },
  {
   "cell_type": "code",
   "execution_count": 979,
   "id": "serial-tenant",
   "metadata": {},
   "outputs": [
    {
     "data": {
      "text/html": [
       "\n",
       "        <iframe\n",
       "            width=\"1200\"\n",
       "            height=\"500\"\n",
       "            src=\"http://10.42.0.109:5000/visconfig?json=%7B%22labels%22%3A%20%7B%22Person%22%3A%20%7B%22caption%22%3A%20%22name%22%2C%20%22size%22%3A%20%22movies_directed%22%7D%2C%20%22Movie%22%3A%20%7B%22caption%22%3A%20%22title%22%7D%2C%20%22Year%22%3A%20%7B%22caption%22%3A%20%22year%22%7D%7D%2C%20%22arrows%22%3A%20false%2C%20%22hierachical%22%3A%20true%2C%20%22relationships%22%3A%20%7B%22CO_STARRED_WITH%22%3A%20%7B%22caption%22%3A%20%22false%22%2C%20%22thickness%22%3A%20%22times%22%7D%7D%2C%20%22container_id%22%3A%20%22viz%22%2C%20%22server_url%22%3A%20%22bolt%3A%2F%2F10.42.0.108%3A7687%22%2C%20%22initial_cypher%22%3A%20%22MATCH%20g%3D%28a%3APerson%29-%5B%3ACO_STARRED_WITH%5D-%28b%3APerson%29%20RETURN%20g%22%7D\"\n",
       "            frameborder=\"0\"\n",
       "            allowfullscreen\n",
       "        ></iframe>\n",
       "        "
      ],
      "text/plain": [
       "<IPython.lib.display.IFrame at 0x7fba7a4235b0>"
      ]
     },
     "execution_count": 979,
     "metadata": {},
     "output_type": "execute_result"
    }
   ],
   "source": [
    "query = \"MATCH g=(a:Person)-[:CO_STARRED_WITH]-(b:Person) RETURN g\"\n",
    "vis_conf['relationships'] = {'CO_STARRED_WITH':{'caption':'false', 'thickness':'times'}}  #retirando captions dos relacionamentos\n",
    "Draw(neo4j_vis_pod_ip,neo4j_pod_ip,query=query, config=vis_conf, figsize=(1200,500))"
   ]
  },
  {
   "cell_type": "markdown",
   "id": "viral-retailer",
   "metadata": {},
   "source": [
    "### Criando uma projeção do grafo"
   ]
  },
  {
   "cell_type": "markdown",
   "id": "hydraulic-constraint",
   "metadata": {},
   "source": [
    "- O plugin GDS trabalha sobre uma projeção do grafo em memória"
   ]
  },
  {
   "cell_type": "code",
   "execution_count": 980,
   "id": "interpreted-partition",
   "metadata": {},
   "outputs": [
    {
     "data": {
      "text/plain": [
       " nodeProjection                                                                                    | relationshipProjection                                                                                                                                                             | graphName | nodeCount | relationshipCount | createMillis \n",
       "---------------------------------------------------------------------------------------------------|------------------------------------------------------------------------------------------------------------------------------------------------------------------------------------|-----------|-----------|-------------------|--------------\n",
       " {Actor: {properties: {movies_cnt: {property: 'movies_cnt', defaultValue: null}}, label: 'Actor'}} | {CO_STARRED_WITH: {orientation: 'NATURAL', aggregation: 'DEFAULT', type: 'CO_STARRED_WITH', properties: {times: {property: 'times', aggregation: 'DEFAULT', defaultValue: null}}}} | myGraph   |       106 |               367 |           94 "
      ]
     },
     "execution_count": 980,
     "metadata": {},
     "output_type": "execute_result"
    }
   ],
   "source": [
    "#graph.run(\"CALL gds.graph.drop('myGraph')\")\n",
    "query = \"\"\"CALL gds.graph.create(\n",
    "           'myGraph',\n",
    "           'Actor',\n",
    "           'CO_STARRED_WITH',\n",
    "            {\n",
    "            nodeProperties: 'movies_cnt',\n",
    "            relationshipProperties: 'times'\n",
    "            })\"\"\"\n",
    "graph.run(query)"
   ]
  },
  {
   "cell_type": "markdown",
   "id": "further-balance",
   "metadata": {},
   "source": [
    "### Executando o algoritmo de detecção de comunidades (Label Propagation)\n",
    "- Retornando resultado do algoritmo como lista"
   ]
  },
  {
   "cell_type": "code",
   "execution_count": 981,
   "id": "controlled-houston",
   "metadata": {},
   "outputs": [
    {
     "data": {
      "text/plain": [
       "[{'Name': 'Carrie-Anne Moss', 'Community': 8},\n",
       " {'Name': 'Emil Eifrem', 'Community': 8},\n",
       " {'Name': 'Keanu Reeves', 'Community': 8},\n",
       " {'Name': 'Laurence Fishburne', 'Community': 8},\n",
       " {'Name': 'Al Pacino', 'Community': 13},\n",
       " {'Name': 'Charlize Theron', 'Community': 13},\n",
       " {'Name': 'Aaron Sorkin', 'Community': 28},\n",
       " {'Name': 'Christopher Guest', 'Community': 28},\n",
       " {'Name': 'Cuba Gooding Jr.', 'Community': 28},\n",
       " {'Name': 'Demi Moore', 'Community': 28},\n",
       " {'Name': 'J.T. Walsh', 'Community': 28},\n",
       " {'Name': 'Jack Nicholson', 'Community': 28},\n",
       " {'Name': 'James Marshall', 'Community': 28},\n",
       " {'Name': 'Kevin Bacon', 'Community': 28},\n",
       " {'Name': 'Kevin Pollak', 'Community': 28},\n",
       " {'Name': 'Kiefer Sutherland', 'Community': 28},\n",
       " {'Name': 'Noah Wyle', 'Community': 28},\n",
       " {'Name': 'Tom Cruise', 'Community': 28},\n",
       " {'Name': 'Jay Mohr', 'Community': 44},\n",
       " {'Name': 'Jonathan Lipnicki', 'Community': 44},\n",
       " {'Name': 'Kelly Preston', 'Community': 44},\n",
       " {'Name': 'Regina King', 'Community': 44},\n",
       " {'Name': 'Renee Zellweger', 'Community': 44},\n",
       " {'Name': 'Billy Crystal', 'Community': 84},\n",
       " {'Name': 'Bruno Kirby', 'Community': 84},\n",
       " {'Name': 'Carrie Fisher', 'Community': 84},\n",
       " {'Name': 'Brooke Langton', 'Community': 90},\n",
       " {'Name': 'Orlando Jones', 'Community': 90},\n",
       " {'Name': 'Annabella Sciorra', 'Community': 99},\n",
       " {'Name': 'Clint Eastwood', 'Community': 99},\n",
       " {'Name': 'Gene Hackman', 'Community': 99},\n",
       " {'Name': 'Max von Sydow', 'Community': 99},\n",
       " {'Name': 'Nathan Lane', 'Community': 99},\n",
       " {'Name': 'Richard Harris', 'Community': 99},\n",
       " {'Name': 'Robin Williams', 'Community': 99},\n",
       " {'Name': 'Werner Herzog', 'Community': 99},\n",
       " {'Name': 'Dina Meyer', 'Community': 103},\n",
       " {'Name': 'Ice-T', 'Community': 103},\n",
       " {'Name': 'Takeshi Kitano', 'Community': 103},\n",
       " {'Name': 'Halle Berry', 'Community': 107},\n",
       " {'Name': 'Jim Broadbent', 'Community': 107},\n",
       " {'Name': 'Audrey Tautou', 'Community': 114},\n",
       " {'Name': 'Ian McKellen', 'Community': 114},\n",
       " {'Name': 'Paul Bettany', 'Community': 114},\n",
       " {'Name': 'Ben Miles', 'Community': 129},\n",
       " {'Name': 'Christina Ricci', 'Community': 129},\n",
       " {'Name': 'Emile Hirsch', 'Community': 129},\n",
       " {'Name': 'Ethan Hawke', 'Community': 129},\n",
       " {'Name': 'Hugo Weaving', 'Community': 129},\n",
       " {'Name': 'John Goodman', 'Community': 129},\n",
       " {'Name': 'John Hurt', 'Community': 129},\n",
       " {'Name': 'Matthew Fox', 'Community': 129},\n",
       " {'Name': 'Naomie Harris', 'Community': 129},\n",
       " {'Name': 'Natalie Portman', 'Community': 129},\n",
       " {'Name': 'Rain', 'Community': 129},\n",
       " {'Name': 'Rick Yune', 'Community': 129},\n",
       " {'Name': 'Stephen Rea', 'Community': 129},\n",
       " {'Name': 'Susan Sarandon', 'Community': 129},\n",
       " {'Name': 'Bonnie Hunt', 'Community': 135},\n",
       " {'Name': 'David Morse', 'Community': 135},\n",
       " {'Name': 'James Cromwell', 'Community': 135},\n",
       " {'Name': 'Michael Clarke Duncan', 'Community': 135},\n",
       " {'Name': 'Patricia Clarkson', 'Community': 135},\n",
       " {'Name': 'Frank Langella', 'Community': 140},\n",
       " {'Name': 'Michael Sheen', 'Community': 140},\n",
       " {'Name': 'Oliver Platt', 'Community': 140},\n",
       " {'Name': 'Sam Rockwell', 'Community': 140},\n",
       " {'Name': 'Danny DeVito', 'Community': 143},\n",
       " {'Name': 'John C. Reilly', 'Community': 143},\n",
       " {'Name': 'Diane Keaton', 'Community': 155},\n",
       " {'Name': 'Christian Bale', 'Community': 160},\n",
       " {'Name': 'Corey Feldman', 'Community': 160},\n",
       " {'Name': 'Dave Chappelle', 'Community': 160},\n",
       " {'Name': 'Greg Kinnear', 'Community': 160},\n",
       " {'Name': 'Helen Hunt', 'Community': 160},\n",
       " {'Name': \"Jerry O'Connell\", 'Community': 160},\n",
       " {'Name': 'John Cusack', 'Community': 160},\n",
       " {'Name': 'Julia Roberts', 'Community': 160},\n",
       " {'Name': 'Marshall Bell', 'Community': 160},\n",
       " {'Name': 'Parker Posey', 'Community': 160},\n",
       " {'Name': 'Philip Seymour Hoffman', 'Community': 160},\n",
       " {'Name': 'River Phoenix', 'Community': 160},\n",
       " {'Name': 'Steve Zahn', 'Community': 160},\n",
       " {'Name': 'Wil Wheaton', 'Community': 160},\n",
       " {'Name': 'Zach Grenier', 'Community': 160},\n",
       " {'Name': 'Anthony Edwards', 'Community': 165},\n",
       " {'Name': 'Bill Paxton', 'Community': 165},\n",
       " {'Name': 'Bill Pullman', 'Community': 165},\n",
       " {'Name': 'Ed Harris', 'Community': 165},\n",
       " {'Name': 'Gary Sinise', 'Community': 165},\n",
       " {'Name': 'Geena Davis', 'Community': 165},\n",
       " {'Name': 'Kelly McGillis', 'Community': 165},\n",
       " {'Name': 'Lori Petty', 'Community': 165},\n",
       " {'Name': 'Madonna', 'Community': 165},\n",
       " {'Name': 'Meg Ryan', 'Community': 165},\n",
       " {'Name': 'Rita Wilson', 'Community': 165},\n",
       " {'Name': \"Rosie O'Donnell\", 'Community': 165},\n",
       " {'Name': 'Tom Hanks', 'Community': 165},\n",
       " {'Name': 'Tom Skerritt', 'Community': 165},\n",
       " {'Name': 'Val Kilmer', 'Community': 165},\n",
       " {'Name': 'Victor Garber', 'Community': 165},\n",
       " {'Name': 'Ben Affleck', 'Community': 174},\n",
       " {'Name': 'Liv Tyler', 'Community': 174},\n",
       " {'Name': 'Alan Arkin', 'Community': 177},\n",
       " {'Name': 'Fernanda Torres', 'Community': 177},\n",
       " {'Name': 'Pedro Cardoso', 'Community': 177}]"
      ]
     },
     "execution_count": 981,
     "metadata": {},
     "output_type": "execute_result"
    }
   ],
   "source": [
    "query = \"\"\" CALL gds.labelPropagation.stream('myGraph')\n",
    "            YIELD nodeId, communityId AS Community\n",
    "            RETURN gds.util.asNode(nodeId).name AS Name, Community\n",
    "            ORDER BY Community, Name \"\"\"\n",
    "graph.run(query).data()"
   ]
  },
  {
   "cell_type": "markdown",
   "id": "above-battery",
   "metadata": {},
   "source": [
    "- Retornando resultado na forma de propriedade do nó no grafo original"
   ]
  },
  {
   "cell_type": "code",
   "execution_count": 982,
   "id": "detailed-speaker",
   "metadata": {},
   "outputs": [
    {
     "data": {
      "text/plain": [
       " communityCount | ranIterations | didConverge \n",
       "----------------|---------------|-------------\n",
       "             19 |            10 | true        "
      ]
     },
     "execution_count": 982,
     "metadata": {},
     "output_type": "execute_result"
    }
   ],
   "source": [
    "query = \"\"\" CALL gds.labelPropagation.write('myGraph', { writeProperty: 'community' })\n",
    "            YIELD communityCount, ranIterations, didConverge \"\"\"\n",
    "graph.run(query)"
   ]
  },
  {
   "cell_type": "code",
   "execution_count": 932,
   "id": "virtual-kitty",
   "metadata": {},
   "outputs": [
    {
     "data": {
      "text/plain": [
       "{'labels': {'Person': {'caption': 'name', 'size': 'movies_directed'},\n",
       "  'Movie': {'caption': 'title'},\n",
       "  'Year': {'caption': 'year'}},\n",
       " 'arrows': False,\n",
       " 'hierachical': True,\n",
       " 'relationships': {'CO_STARRED_WITH': {'caption': 'false',\n",
       "   'thickness': 'times'}}}"
      ]
     },
     "execution_count": 932,
     "metadata": {},
     "output_type": "execute_result"
    }
   ],
   "source": [
    "vis_conf"
   ]
  },
  {
   "cell_type": "code",
   "execution_count": 984,
   "id": "controversial-chancellor",
   "metadata": {},
   "outputs": [
    {
     "data": {
      "text/html": [
       "\n",
       "        <iframe\n",
       "            width=\"1200\"\n",
       "            height=\"700\"\n",
       "            src=\"http://10.42.0.109:5000/visconfig?json=%7B%22labels%22%3A%20%7B%22Person%22%3A%20%7B%22caption%22%3A%20%22name%22%2C%20%22size%22%3A%20%22movies_directed%22%2C%20%22community%22%3A%20%22community%22%7D%2C%20%22Movie%22%3A%20%7B%22caption%22%3A%20%22title%22%7D%2C%20%22Year%22%3A%20%7B%22caption%22%3A%20%22year%22%7D%7D%2C%20%22arrows%22%3A%20false%2C%20%22hierachical%22%3A%20true%2C%20%22relationships%22%3A%20%7B%22CO_STARRED_WITH%22%3A%20%7B%22caption%22%3A%20%22false%22%2C%20%22thickness%22%3A%20%22times%22%7D%7D%2C%20%22container_id%22%3A%20%22viz%22%2C%20%22server_url%22%3A%20%22bolt%3A%2F%2F10.42.0.108%3A7687%22%2C%20%22initial_cypher%22%3A%20%22MATCH%20p%3D%28%29-%5B%3ACO_STARRED_WITH%5D-%28%29%20RETURN%20p%22%7D\"\n",
       "            frameborder=\"0\"\n",
       "            allowfullscreen\n",
       "        ></iframe>\n",
       "        "
      ],
      "text/plain": [
       "<IPython.lib.display.IFrame at 0x7fba7a462190>"
      ]
     },
     "execution_count": 984,
     "metadata": {},
     "output_type": "execute_result"
    }
   ],
   "source": [
    "vis_conf['labels']['Person']['community'] = 'community' # adicionando nova propriedade do nó à visualização\n",
    "query = \"MATCH p=()-[:CO_STARRED_WITH]-() RETURN p\" #nova consulta\n",
    "Draw(neo4j_vis_pod_ip,neo4j_pod_ip,query=query, config=vis_conf, figsize=(1200,700))"
   ]
  },
  {
   "cell_type": "code",
   "execution_count": null,
   "id": "immediate-characterization",
   "metadata": {},
   "outputs": [],
   "source": []
  }
 ],
 "metadata": {
  "kernelspec": {
   "display_name": "Python 3",
   "language": "python",
   "name": "python3"
  },
  "language_info": {
   "codemirror_mode": {
    "name": "ipython",
    "version": 3
   },
   "file_extension": ".py",
   "mimetype": "text/x-python",
   "name": "python",
   "nbconvert_exporter": "python",
   "pygments_lexer": "ipython3",
   "version": "3.8.8"
  }
 },
 "nbformat": 4,
 "nbformat_minor": 5
}
