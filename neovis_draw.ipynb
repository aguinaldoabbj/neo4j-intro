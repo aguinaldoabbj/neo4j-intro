{
 "cells": [
  {
   "cell_type": "code",
   "execution_count": 4,
   "id": "commercial-miracle",
   "metadata": {},
   "outputs": [],
   "source": [
    "import json\n",
    "from urllib.parse import quote\n",
    "from IPython.display import IFrame"
   ]
  },
  {
   "cell_type": "code",
   "execution_count": 8,
   "id": "blank-transition",
   "metadata": {},
   "outputs": [],
   "source": [
    "%store -r neo4j_pod_ip\n",
    "%store -r neo4j_vis_pod_ip"
   ]
  },
  {
   "cell_type": "code",
   "execution_count": 9,
   "id": "charged-scenario",
   "metadata": {},
   "outputs": [],
   "source": [
    "def Draw(neovis_ip,neo4j_ip, *args, **kwargs):\n",
    "    neo4j_uri = 'bolt://'+neo4j_ip+':7687'\n",
    "    neovis_uri = 'http://'+neovis_ip+':5000'\n",
    "    config = kwargs.get('config', None)\n",
    "    query = kwargs.get('query', 'MATCH p=()-[]-() RETURN p LIMIT 100')\n",
    "    figsize = kwargs.get('figsize', (1700,600))\n",
    "    query_json = json.loads('{}')\n",
    "    if config:\n",
    "        for (k,v) in config.items():\n",
    "            query_json[k] = v\n",
    "    query_json[\"container_id\"] = \"viz\"\n",
    "    query_json['server_url'] = neo4j_uri\n",
    "    query_json['initial_cypher'] = query\n",
    "    visurl = neovis_uri+'/visconfig?json='+quote(json.dumps(query_json), safe=\"\")\n",
    "    #print(visurl)\n",
    "    (w,h) = figsize\n",
    "    return IFrame(visurl, w, h)"
   ]
  },
  {
   "cell_type": "code",
   "execution_count": 10,
   "id": "ranging-climb",
   "metadata": {},
   "outputs": [],
   "source": [
    "vis_conf = {'labels':{'Person':{'caption':'name'},'Movie':{'caption':'title'}}}"
   ]
  },
  {
   "cell_type": "code",
   "execution_count": 11,
   "id": "dense-visitor",
   "metadata": {},
   "outputs": [
    {
     "data": {
      "text/html": [
       "\n",
       "        <iframe\n",
       "            width=\"1500\"\n",
       "            height=\"800\"\n",
       "            src=\"http://10.42.0.57:5000/visconfig?json=%7B%22labels%22%3A%20%7B%22Person%22%3A%20%7B%22caption%22%3A%20%22name%22%7D%2C%20%22Movie%22%3A%20%7B%22caption%22%3A%20%22title%22%7D%7D%2C%20%22container_id%22%3A%20%22viz%22%2C%20%22server_url%22%3A%20%22bolt%3A%2F%2F10.42.0.56%3A7687%22%2C%20%22initial_cypher%22%3A%20%22MATCH%20%28p%3APerson%29-%5Br%5D-%28m%3AMovie%29%20RETURN%20p%2Cm%2Cr%22%7D\"\n",
       "            frameborder=\"0\"\n",
       "            allowfullscreen\n",
       "        ></iframe>\n",
       "        "
      ],
      "text/plain": [
       "<IPython.lib.display.IFrame at 0x7f7af8285160>"
      ]
     },
     "execution_count": 11,
     "metadata": {},
     "output_type": "execute_result"
    }
   ],
   "source": [
    "Draw(neo4j_vis_pod_ip,neo4j_pod_ip, config=vis_conf, query=\"MATCH (p:Person)-[r]-(m:Movie) RETURN p,m,r\", figsize=(1500,800))"
   ]
  },
  {
   "cell_type": "code",
   "execution_count": null,
   "id": "medieval-colorado",
   "metadata": {},
   "outputs": [],
   "source": []
  }
 ],
 "metadata": {
  "kernelspec": {
   "display_name": "Python 3",
   "language": "python",
   "name": "python3"
  },
  "language_info": {
   "codemirror_mode": {
    "name": "ipython",
    "version": 3
   },
   "file_extension": ".py",
   "mimetype": "text/x-python",
   "name": "python",
   "nbconvert_exporter": "python",
   "pygments_lexer": "ipython3",
   "version": "3.8.8"
  }
 },
 "nbformat": 4,
 "nbformat_minor": 5
}
