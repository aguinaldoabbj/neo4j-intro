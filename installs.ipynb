{
 "cells": [
  {
   "cell_type": "code",
   "execution_count": 1,
   "id": "rotary-remark",
   "metadata": {},
   "outputs": [
    {
     "name": "stdout",
     "output_type": "stream",
     "text": [
      "Collecting pandas\n",
      "  Using cached pandas-1.2.3-cp38-cp38-manylinux1_x86_64.whl (9.7 MB)\n",
      "Requirement already satisfied: python-dateutil>=2.7.3 in /opt/conda/lib/python3.8/site-packages (from pandas) (2.8.1)\n",
      "Requirement already satisfied: pytz>=2017.3 in /opt/conda/lib/python3.8/site-packages (from pandas) (2021.1)\n",
      "Collecting numpy>=1.16.5\n",
      "  Using cached numpy-1.20.1-cp38-cp38-manylinux2010_x86_64.whl (15.4 MB)\n",
      "Requirement already satisfied: six>=1.5 in /opt/conda/lib/python3.8/site-packages (from python-dateutil>=2.7.3->pandas) (1.15.0)\n",
      "Installing collected packages: numpy, pandas\n",
      "Successfully installed numpy-1.20.1 pandas-1.2.3\n",
      "Collecting import-ipynb\n",
      "  Using cached import_ipynb-0.1.3-py3-none-any.whl\n",
      "Installing collected packages: import-ipynb\n",
      "Successfully installed import-ipynb-0.1.3\n",
      "Collecting py2neo\n",
      "  Using cached py2neo-2021.0.1-py2.py3-none-any.whl (195 kB)\n",
      "Requirement already satisfied: cryptography in /opt/conda/lib/python3.8/site-packages (from py2neo) (3.4.4)\n",
      "Collecting docker\n",
      "  Using cached docker-4.4.4-py2.py3-none-any.whl (147 kB)\n",
      "Requirement already satisfied: six>=1.15.0 in /opt/conda/lib/python3.8/site-packages (from py2neo) (1.15.0)\n",
      "Requirement already satisfied: pygments>=2.0.0 in /opt/conda/lib/python3.8/site-packages (from py2neo) (2.8.0)\n",
      "Requirement already satisfied: pytz in /opt/conda/lib/python3.8/site-packages (from py2neo) (2021.1)\n",
      "Collecting prompt-toolkit~=2.0.7\n",
      "  Using cached prompt_toolkit-2.0.10-py3-none-any.whl (340 kB)\n",
      "Requirement already satisfied: urllib3 in /opt/conda/lib/python3.8/site-packages (from py2neo) (1.26.3)\n",
      "Requirement already satisfied: certifi in /opt/conda/lib/python3.8/site-packages (from py2neo) (2020.12.5)\n",
      "Collecting english\n",
      "  Using cached english-2020.7.0-py2.py3-none-any.whl (8.1 kB)\n",
      "Collecting monotonic\n",
      "  Using cached monotonic-1.5-py2.py3-none-any.whl (5.3 kB)\n",
      "Collecting pansi>=2020.7.3\n",
      "  Using cached pansi-2020.7.3-py2.py3-none-any.whl (10 kB)\n",
      "Requirement already satisfied: packaging in /opt/conda/lib/python3.8/site-packages (from py2neo) (20.9)\n",
      "Collecting neotime~=1.7.4\n",
      "  Using cached neotime-1.7.4-py3-none-any.whl\n",
      "Requirement already satisfied: wcwidth in /opt/conda/lib/python3.8/site-packages (from prompt-toolkit~=2.0.7->py2neo) (0.2.5)\n",
      "Requirement already satisfied: cffi>=1.12 in /opt/conda/lib/python3.8/site-packages (from cryptography->py2neo) (1.14.5)\n",
      "Requirement already satisfied: pycparser in /opt/conda/lib/python3.8/site-packages (from cffi>=1.12->cryptography->py2neo) (2.20)\n",
      "Requirement already satisfied: requests!=2.18.0,>=2.14.2 in /opt/conda/lib/python3.8/site-packages (from docker->py2neo) (2.25.1)\n",
      "Collecting websocket-client>=0.32.0\n",
      "  Using cached websocket_client-0.58.0-py2.py3-none-any.whl (61 kB)\n",
      "Requirement already satisfied: idna<3,>=2.5 in /opt/conda/lib/python3.8/site-packages (from requests!=2.18.0,>=2.14.2->docker->py2neo) (2.10)\n",
      "Requirement already satisfied: chardet<5,>=3.0.2 in /opt/conda/lib/python3.8/site-packages (from requests!=2.18.0,>=2.14.2->docker->py2neo) (4.0.0)\n",
      "Requirement already satisfied: pyparsing>=2.0.2 in /opt/conda/lib/python3.8/site-packages (from packaging->py2neo) (2.4.7)\n",
      "Installing collected packages: websocket-client, prompt-toolkit, pansi, neotime, monotonic, english, docker, py2neo\n",
      "  Attempting uninstall: prompt-toolkit\n",
      "    Found existing installation: prompt-toolkit 3.0.16\n",
      "    Uninstalling prompt-toolkit-3.0.16:\n",
      "      Successfully uninstalled prompt-toolkit-3.0.16\n",
      "Successfully installed docker-4.4.4 english-2020.7.0 monotonic-1.5 neotime-1.7.4 pansi-2020.7.3 prompt-toolkit-2.0.10 py2neo-2021.0.1 websocket-client-0.58.0\n"
     ]
    }
   ],
   "source": [
    "!pip install pandas\n",
    "!pip install import-ipynb\n",
    "!pip install py2neo"
   ]
  },
  {
   "cell_type": "code",
   "execution_count": null,
   "id": "annual-doubt",
   "metadata": {},
   "outputs": [],
   "source": []
  },
  {
   "cell_type": "code",
   "execution_count": null,
   "id": "inappropriate-minnesota",
   "metadata": {},
   "outputs": [],
   "source": []
  }
 ],
 "metadata": {
  "kernelspec": {
   "display_name": "Python 3",
   "language": "python",
   "name": "python3"
  },
  "language_info": {
   "codemirror_mode": {
    "name": "ipython",
    "version": 3
   },
   "file_extension": ".py",
   "mimetype": "text/x-python",
   "name": "python",
   "nbconvert_exporter": "python",
   "pygments_lexer": "ipython3",
   "version": "3.8.8"
  }
 },
 "nbformat": 4,
 "nbformat_minor": 5
}
